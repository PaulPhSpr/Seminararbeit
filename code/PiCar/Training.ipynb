{
  "nbformat": 4,
  "nbformat_minor": 0,
  "metadata": {
    "colab": {
      "name": "DeepPiCar.ipynb",
      "provenance": [],
      "collapsed_sections": [],
      "toc_visible": true,
      "authorship_tag": "ABX9TyOKAhMEuAxxFswnt3bbrWDb",
      "include_colab_link": true
    },
    "kernelspec": {
      "name": "python3",
      "display_name": "Python 3"
    },
    "accelerator": "GPU"
  },
  "cells": [
    {
      "cell_type": "markdown",
      "metadata": {
        "id": "view-in-github",
        "colab_type": "text"
      },
      "source": [
        "<a href=\"https://colab.research.google.com/github/PaulPhSpr/Seminararbeit/blob/master/code/PiCar/Training.ipynb\" target=\"_parent\"><img src=\"https://colab.research.google.com/assets/colab-badge.svg\" alt=\"Open In Colab\"/></a>"
      ]
    },
    {
      "cell_type": "markdown",
      "metadata": {
        "id": "0lpaA2kanH67",
        "colab_type": "text"
      },
      "source": [
        "# **Das Notebook zum Training des DeepPiCar**"
      ]
    },
    {
      "cell_type": "markdown",
      "metadata": {
        "id": "wxEoHiEYnScI",
        "colab_type": "text"
      },
      "source": [
        "Teil 3 und 4 sind adaptiert aus: Tian, David (2019). DeepPiCar - Part 5. Zuletzt abgerufen am 27.05.2020. Verfügbar unter: https://towardsdatascience.com/deeppicar-part-5-lane-following-via-deep-learning-d93acdce6110"
      ]
    },
    {
      "cell_type": "markdown",
      "metadata": {
        "id": "R6b6MIhrnUbP",
        "colab_type": "text"
      },
      "source": [
        "# Teil 1 - Import der Bibliotheken"
      ]
    },
    {
      "cell_type": "code",
      "metadata": {
        "id": "ruhkpFbTm9YM",
        "colab_type": "code",
        "outputId": "4adc7ce9-d9b1-4f27-ece1-cc8ef18e0b78",
        "colab": {
          "base_uri": "https://localhost:8080/",
          "height": 492
        }
      },
      "source": [
        "#--Standart-Bibliotheken--#\n",
        "import os #zum Arbeiten mit Dateipfaden\n",
        "import random \n",
        "import numpy as np\n",
        "\n",
        "#--Machine Learning--#\n",
        "import keras #High Lever Schnittstelle für Tensorflow\n",
        "from keras.models import Model #zum Zusammenbauen\n",
        "from keras.layers import Conv2D, MaxPooling2D, Input, Flatten, Dense #verschiedene Layer\n",
        "from keras.optimizers import SGD #Stochastic Gradient Descent\n",
        "from keras.models import load_model #für das Laden\n",
        "from keras.preprocessing.image import ImageDataGenerator\n",
        "\n",
        "#--Vorbereitung ML--#\n",
        "from sklearn.model_selection import train_test_split #um den Datensatz aufzuteilen\n",
        "\n",
        "#--Graphik--#\n",
        "import cv2\n",
        "from imgaug import augmenters as img_aug #Data Augmentation\n",
        "import matplotlib.image as mpimg\n",
        "import matplotlib.pyplot as plt\n",
        "%matplotlib inline \n",
        "from PIL import ImageFilter, Image #um Bilder zu bearbeiten und anzuzeigen\n",
        "\n",
        "#--Auswertung--#\n",
        "!pip3 install deeplearning2020\n",
        "from deeplearning2020 import helpers #(OpenHPI, 2020)"
      ],
      "execution_count": 2,
      "outputs": [
        {
          "output_type": "stream",
          "text": [
            "Using TensorFlow backend.\n"
          ],
          "name": "stderr"
        },
        {
          "output_type": "stream",
          "text": [
            "Collecting deeplearning2020\n",
            "  Downloading https://files.pythonhosted.org/packages/3a/7f/6fee39d7590f4ae20a976131b1920d56a3dee138c208dfcb3959cd8c5275/deeplearning2020-0.4.21.tar.gz\n",
            "Collecting kerasltisubmission>=0.4.9\n",
            "\u001b[?25l  Downloading https://files.pythonhosted.org/packages/de/56/0b6adef8e6f5d89e9daa68e03d00850509f1553ce6303c0a49d7c619dd26/kerasltisubmission-0.4.9.tar.gz (392kB)\n",
            "\u001b[K     |████████████████████████████████| 399kB 4.8MB/s \n",
            "\u001b[?25hRequirement already satisfied: numpy in /usr/local/lib/python3.6/dist-packages (from kerasltisubmission>=0.4.9->deeplearning2020) (1.18.5)\n",
            "Requirement already satisfied: progressbar2 in /usr/local/lib/python3.6/dist-packages (from kerasltisubmission>=0.4.9->deeplearning2020) (3.38.0)\n",
            "Requirement already satisfied: requests in /usr/local/lib/python3.6/dist-packages (from kerasltisubmission>=0.4.9->deeplearning2020) (2.23.0)\n",
            "Requirement already satisfied: six in /usr/local/lib/python3.6/dist-packages (from progressbar2->kerasltisubmission>=0.4.9->deeplearning2020) (1.12.0)\n",
            "Requirement already satisfied: python-utils>=2.3.0 in /usr/local/lib/python3.6/dist-packages (from progressbar2->kerasltisubmission>=0.4.9->deeplearning2020) (2.4.0)\n",
            "Requirement already satisfied: idna<3,>=2.5 in /usr/local/lib/python3.6/dist-packages (from requests->kerasltisubmission>=0.4.9->deeplearning2020) (2.9)\n",
            "Requirement already satisfied: certifi>=2017.4.17 in /usr/local/lib/python3.6/dist-packages (from requests->kerasltisubmission>=0.4.9->deeplearning2020) (2020.4.5.1)\n",
            "Requirement already satisfied: chardet<4,>=3.0.2 in /usr/local/lib/python3.6/dist-packages (from requests->kerasltisubmission>=0.4.9->deeplearning2020) (3.0.4)\n",
            "Requirement already satisfied: urllib3!=1.25.0,!=1.25.1,<1.26,>=1.21.1 in /usr/local/lib/python3.6/dist-packages (from requests->kerasltisubmission>=0.4.9->deeplearning2020) (1.24.3)\n",
            "Building wheels for collected packages: deeplearning2020, kerasltisubmission\n",
            "  Building wheel for deeplearning2020 (setup.py) ... \u001b[?25l\u001b[?25hdone\n",
            "  Created wheel for deeplearning2020: filename=deeplearning2020-0.4.21-py2.py3-none-any.whl size=8548 sha256=6503d7c6fc64649fa2eb35d317b58c4e0979dd575a6e8c4397e53fa660ab28e3\n",
            "  Stored in directory: /root/.cache/pip/wheels/7f/c2/8a/f9f03fc839999f1fe9d5e5a9d2c97cdd5cb8329f61f82ea2c9\n",
            "  Building wheel for kerasltisubmission (setup.py) ... \u001b[?25l\u001b[?25hdone\n",
            "  Created wheel for kerasltisubmission: filename=kerasltisubmission-0.4.9-py2.py3-none-any.whl size=8867 sha256=66a767313d90d58648de9ab76476cb1354db5fa4e4fb2f267a397bb896572e68\n",
            "  Stored in directory: /root/.cache/pip/wheels/fd/61/f7/09171376b25408ae21b58e98c9fbf2eb924f676bb77659f983\n",
            "Successfully built deeplearning2020 kerasltisubmission\n",
            "Installing collected packages: kerasltisubmission, deeplearning2020\n",
            "Successfully installed deeplearning2020-0.4.21 kerasltisubmission-0.4.9\n"
          ],
          "name": "stdout"
        }
      ]
    },
    {
      "cell_type": "markdown",
      "metadata": {
        "id": "wASuzqfUn5kv",
        "colab_type": "text"
      },
      "source": [
        "# Teil 2 - Download der Daten"
      ]
    },
    {
      "cell_type": "code",
      "metadata": {
        "id": "GJfiofyRqwnx",
        "colab_type": "code",
        "outputId": "b8de0592-6dc6-4c21-cc24-8547c1e99a45",
        "colab": {
          "base_uri": "https://localhost:8080/",
          "height": 145
        }
      },
      "source": [
        "#--Daten aus GitHub herunterladen--#\n",
        "!cd /content\n",
        "!git clone https://github.com/PaulPhSpr/Seminararbeit "
      ],
      "execution_count": 3,
      "outputs": [
        {
          "output_type": "stream",
          "text": [
            "Cloning into 'Seminararbeit'...\n",
            "remote: Enumerating objects: 46, done.\u001b[K\n",
            "remote: Counting objects: 100% (46/46), done.\u001b[K\n",
            "remote: Compressing objects: 100% (41/41), done.\u001b[K\n",
            "remote: Total 2325 (delta 8), reused 38 (delta 1), pack-reused 2279\u001b[K\n",
            "Receiving objects: 100% (2325/2325), 43.88 MiB | 35.89 MiB/s, done.\n",
            "Resolving deltas: 100% (53/53), done.\n"
          ],
          "name": "stdout"
        }
      ]
    },
    {
      "cell_type": "code",
      "metadata": {
        "id": "z27QDB1xoCaP",
        "colab_type": "code",
        "colab": {}
      },
      "source": [
        "#--Speicherorte angeben--#\n",
        "bas_dir = \"Seminararbeit/Datensatz\"\n",
        "train_dir = os.path.join(bas_dir, \"train\")\n",
        "valid_dir = os.path.join(bas_dir, \"valid\")\n",
        "\n",
        "#--Anzahl der Klassen --#\n",
        "num_of_classes = 19"
      ],
      "execution_count": 0,
      "outputs": []
    },
    {
      "cell_type": "markdown",
      "metadata": {
        "id": "5LOribrLxn3G",
        "colab_type": "text"
      },
      "source": [
        "# Teil 3 - Data Augmentation"
      ]
    },
    {
      "cell_type": "code",
      "metadata": {
        "id": "4A0Cm_0nzgxe",
        "colab_type": "code",
        "colab": {}
      },
      "source": [
        "#--Zoom--#\n",
        "def zoom(bild):\n",
        "  zoom = img_aug.Affine(scale=(1, 1.3)) #zufälliger zoom zwischen 100% und 130%\n",
        "  bild = zoom.augment_image(bild)\n",
        "  return bild\n",
        "\n",
        "#--Rotation um 180°--#\n",
        "def flip(bild, steuerwinkel):\n",
        "  flipJa = random.randint(0,1)\n",
        "  if flipJa == 1:\n",
        "    bild = cv2.flip(bild, 1)\n",
        "    steuerwinkel = num_of_classes - 1 - steuerwinkel\n",
        "  return bild, steuerwinkel\n",
        "\n",
        "#--Unschärfe--#\n",
        "def blur(bild):\n",
        "  kernel = random.randint(1,5) #alles darüber zu verschwommen\n",
        "  bild = cv2.blur(bild, (kernel, kernel))\n",
        "  return bild\n",
        "\n",
        "def hell(bild):\n",
        "  helligkeit = img_aug.Multiply((0.7, 1.3)) #70%-130%\n",
        "  bild = helligkeit.augment_image(bild)\n",
        "  return bild\n",
        "\n",
        "#--Zusammenbringen--#\n",
        "def augmentation(bild, steuerwinkel):\n",
        "  if np.random.rand() < 0.5:\n",
        "    bild = zoom(bild)\n",
        "  if np.random.rand() < 0.5:\n",
        "    bild = blur(bild)\n",
        "  if np.random.rand() < 0.5:\n",
        "    bild = hell(bild)\n",
        "  if np.random.rand() < 0.5:\n",
        "    bild, steuerwinkel = flip(bild, steuerwinkel)\n",
        "  return bild, steuerwinkel"
      ],
      "execution_count": 0,
      "outputs": []
    },
    {
      "cell_type": "markdown",
      "metadata": {
        "id": "nGAfTiB_znkM",
        "colab_type": "text"
      },
      "source": [
        "# Teil 4 - Daten vorbereiten für Training"
      ]
    },
    {
      "cell_type": "code",
      "metadata": {
        "id": "zWxeaWxBxnVN",
        "colab_type": "code",
        "colab": {}
      },
      "source": [
        "#--Aus Array von Arrays ein Array aus Bildern--#\n",
        "def toBild(bild):\n",
        "  bild = Image.fromarray((bild).astype(np.uint8)) #nur dieses Dateiformat wird von Pillow akzeptiert\n",
        "  bild = cv2.cvtColor(np.array(bild), cv2.COLOR_BGR2RGB) #in numpy bild umwandeln\n",
        "  return bild\n",
        "\n",
        "#--Bilder standardisieren--#\n",
        "def vorbereitung_bild(bild):\n",
        "  bild = toBild(bild)\n",
        "  return bild\n",
        "\n",
        "#--Aus Categorical zu Numeric, [0, 0, 1, 0] --> 3\n",
        "def vorbereitung_steuerwinkel(winkel):\n",
        "  for i in range(num_of_classes):\n",
        "    if winkel[i] != 0:\n",
        "      return i\n",
        "\n",
        "#--Bildgenerator für Trainingsprozess--#\n",
        "def bild_dat_generator(bilder, steuerwinkel, trainiert):\n",
        "  batch_bild = []\n",
        "  batch_steuerwinkel = []\n",
        "\n",
        "  #so viele Bilder wie angeben ausgeben\n",
        "  for i in range(len(bilder)):\n",
        "    rand_i = random.randint(0, len(bilder)) #ein Bild aussuchen\n",
        "\n",
        "    #bild nehmen\n",
        "    bild = bilder[rand_i]\n",
        "    bild = vorbereitung_bild(bild)\n",
        "\n",
        "    #steuerwinkel nehmen\n",
        "    str_winkel = steuerwinkel[rand_i]\n",
        "    str_winkel = vorbereitung_steuerwinkel(str_winkel) \n",
        "\n",
        "    #Augmentation\n",
        "    if(trainiert):\n",
        "      bild, str_winkel = augmentation(bild, str_winkel)\n",
        "\n",
        "    bild = cv2.cvtColor(bild, cv2.COLOR_BGR2RGB)\n",
        "    #Abspeichern\n",
        "    batch_bild.append(bild)\n",
        "    batch_steuerwinkel.append(str_winkel)\n",
        "\n",
        "  return np.asarray(batch_bild), np.asarray(batch_steuerwinkel)"
      ],
      "execution_count": 0,
      "outputs": []
    },
    {
      "cell_type": "code",
      "metadata": {
        "id": "K6tUP8WgCeQl",
        "colab_type": "code",
        "outputId": "b1930339-475c-44cd-a617-6dad2a3ed804",
        "colab": {
          "base_uri": "https://localhost:8080/",
          "height": 54
        }
      },
      "source": [
        "#--Batches--#\n",
        "classes = [\"class\" + str(i) for i in range(1, num_of_classes + 1)]\n",
        "train_batches = ImageDataGenerator().flow_from_directory(train_dir, target_size = (108, 146), classes=classes, batch_size = 1723) \n",
        "valid_batches = ImageDataGenerator().flow_from_directory(valid_dir, target_size = (108, 146), classes=classes, batch_size = 431)"
      ],
      "execution_count": 12,
      "outputs": [
        {
          "output_type": "stream",
          "text": [
            "Found 1723 images belonging to 19 classes.\n",
            "Found 431 images belonging to 19 classes.\n"
          ],
          "name": "stdout"
        }
      ]
    },
    {
      "cell_type": "code",
      "metadata": {
        "id": "CSduVwcpdjHS",
        "colab_type": "code",
        "colab": {}
      },
      "source": [
        "#--Trainingsdaten zusammenführen--#\n",
        "#Trainingsdaten\n",
        "bilder, label = next(train_batches)\n",
        "X_train, y_train = bild_dat_generator(bilder, label, True)\n",
        "#Validierungsdaten\n",
        "bilder, label = next(valid_batches)\n",
        "valid_data = bild_dat_generator(bilder, label, False)"
      ],
      "execution_count": 0,
      "outputs": []
    },
    {
      "cell_type": "markdown",
      "metadata": {
        "id": "99IAhYgR-Rvi",
        "colab_type": "text"
      },
      "source": [
        "# Teil 5 - Baue Modell"
      ]
    },
    {
      "cell_type": "code",
      "metadata": {
        "id": "dW_sqCMN-VIa",
        "colab_type": "code",
        "outputId": "ab8d37cb-80bb-441b-ff42-5769edf57ff4",
        "colab": {
          "base_uri": "https://localhost:8080/",
          "height": 799
        }
      },
      "source": [
        "def baue_model():\n",
        "  #--Params--#\n",
        "  lr = 0.0001 #Learning Rate\n",
        "  momentum = 0.9 #Parameter für SGD, entspricht Trägheit beim Abstieg\n",
        "  dense_neurons = 2000\n",
        "\n",
        "  activation = \"elu\" #Aktivierungsfunktion\n",
        "\n",
        "  input_layer = Input(shape=(108, 146, 3)) #146x108px, 3 Farbkanäle\n",
        "\n",
        "  #--Convultional Layers--#\n",
        "  model = Conv2D(filters = 320, kernel_size = (5, 5), activation = activation, padding=\"same\") (input_layer)\n",
        "  model = MaxPooling2D((2,2)) (model)\n",
        "  model = Conv2D(filters = 394, kernel_size = (5, 5), activation = activation, padding=\"same\") (model)\n",
        "  model = MaxPooling2D((2,2)) (model)\n",
        "  model = Conv2D(filters = 458, kernel_size = (5, 5), activation = activation, padding=\"same\") (model)\n",
        "  model = MaxPooling2D((2,2)) (model)\n",
        "  model = Conv2D(filters = 522, kernel_size = (3, 3), activation = activation, padding=\"same\") (model)\n",
        "  model = MaxPooling2D((2,2)) (model)\n",
        "  model = Conv2D(filters = 586, kernel_size = (3, 3), activation = activation, padding=\"same\") (model)\n",
        "  model = MaxPooling2D((2,2)) (model)\n",
        "  model = Conv2D(filters = 650, kernel_size = (3, 3), activation = activation, padding=\"same\") (model)\n",
        "  model = MaxPooling2D((2,2)) (model)\n",
        "\n",
        "  #--Dense Layers--#\n",
        "  model = Flatten() (model)\n",
        "  model = Dense(dense_neurons, activation=activation) (model)\n",
        "  model = Dense(dense_neurons // 2, activation=\"tanh\") (model)\n",
        "\n",
        "  #--Output--#\n",
        "  out = Dense(num_of_classes, activation = \"softmax\") (model)\n",
        "  CNN_model = Model(input_layer, out)\n",
        "\n",
        "  #--Wie lernen?--#\n",
        "  optimizer = SGD(lr=lr, momentum=momentum)\n",
        "\n",
        "  #--Kompilieren und Ausgeben--#\n",
        "  CNN_model.compile(loss=\"sparse_categorical_crossentropy\", optimizer=optimizer, metrics=[\"accuracy\"])\n",
        "\n",
        "  return CNN_model\n",
        "\n",
        "model = baue_model()\n",
        "print(model.summary())"
      ],
      "execution_count": 23,
      "outputs": [
        {
          "output_type": "stream",
          "text": [
            "Model: \"model_3\"\n",
            "_________________________________________________________________\n",
            "Layer (type)                 Output Shape              Param #   \n",
            "=================================================================\n",
            "input_3 (InputLayer)         (None, 108, 146, 3)       0         \n",
            "_________________________________________________________________\n",
            "conv2d_11 (Conv2D)           (None, 108, 146, 320)     24320     \n",
            "_________________________________________________________________\n",
            "max_pooling2d_11 (MaxPooling (None, 54, 73, 320)       0         \n",
            "_________________________________________________________________\n",
            "conv2d_12 (Conv2D)           (None, 54, 73, 394)       3152394   \n",
            "_________________________________________________________________\n",
            "max_pooling2d_12 (MaxPooling (None, 27, 36, 394)       0         \n",
            "_________________________________________________________________\n",
            "conv2d_13 (Conv2D)           (None, 27, 36, 458)       4511758   \n",
            "_________________________________________________________________\n",
            "max_pooling2d_13 (MaxPooling (None, 13, 18, 458)       0         \n",
            "_________________________________________________________________\n",
            "conv2d_14 (Conv2D)           (None, 13, 18, 522)       2152206   \n",
            "_________________________________________________________________\n",
            "max_pooling2d_14 (MaxPooling (None, 6, 9, 522)         0         \n",
            "_________________________________________________________________\n",
            "conv2d_15 (Conv2D)           (None, 6, 9, 586)         2753614   \n",
            "_________________________________________________________________\n",
            "max_pooling2d_15 (MaxPooling (None, 3, 4, 586)         0         \n",
            "_________________________________________________________________\n",
            "conv2d_16 (Conv2D)           (None, 3, 4, 650)         3428750   \n",
            "_________________________________________________________________\n",
            "max_pooling2d_16 (MaxPooling (None, 1, 2, 650)         0         \n",
            "_________________________________________________________________\n",
            "flatten_3 (Flatten)          (None, 1300)              0         \n",
            "_________________________________________________________________\n",
            "dense_7 (Dense)              (None, 2000)              2602000   \n",
            "_________________________________________________________________\n",
            "dense_8 (Dense)              (None, 1000)              2001000   \n",
            "_________________________________________________________________\n",
            "dense_9 (Dense)              (None, 19)                19019     \n",
            "=================================================================\n",
            "Total params: 20,645,061\n",
            "Trainable params: 20,645,061\n",
            "Non-trainable params: 0\n",
            "_________________________________________________________________\n",
            "None\n"
          ],
          "name": "stdout"
        }
      ]
    },
    {
      "cell_type": "markdown",
      "metadata": {
        "id": "wRVCp-gF-XOT",
        "colab_type": "text"
      },
      "source": [
        "# Teil 6 - Das Modell trainieren"
      ]
    },
    {
      "cell_type": "code",
      "metadata": {
        "id": "svZgfeYm-bzD",
        "colab_type": "code",
        "outputId": "b7901e51-df21-43f7-d9c8-28bd2c3d5222",
        "colab": {
          "base_uri": "https://localhost:8080/",
          "height": 858
        }
      },
      "source": [
        "#--Training--#\n",
        "history = model.fit(\n",
        "    X_train, y_train, #Trainingsdaten generieren\n",
        "    validation_data = valid_data, #Validierungsdaten generieren\n",
        "    epochs = 15, #anzahl durchgänge\n",
        ")\n",
        "\n",
        "#--Trainings und Validierungsgenauigkeit anzeigen--#\n",
        "helpers.plot_history(\"Accuracy\", history, 0)"
      ],
      "execution_count": 24,
      "outputs": [
        {
          "output_type": "stream",
          "text": [
            "Train on 1723 samples, validate on 431 samples\n",
            "Epoch 1/15\n",
            "1723/1723 [==============================] - 33s 19ms/step - loss: 2.0700 - accuracy: 0.2931 - val_loss: 1.7044 - val_accuracy: 0.4942\n",
            "Epoch 2/15\n",
            "1723/1723 [==============================] - 32s 19ms/step - loss: 1.6616 - accuracy: 0.4231 - val_loss: 1.4615 - val_accuracy: 0.5406\n",
            "Epoch 3/15\n",
            "1723/1723 [==============================] - 32s 19ms/step - loss: 1.5266 - accuracy: 0.4852 - val_loss: 1.2970 - val_accuracy: 0.5847\n",
            "Epoch 4/15\n",
            "1723/1723 [==============================] - 32s 19ms/step - loss: 1.4125 - accuracy: 0.5113 - val_loss: 1.3525 - val_accuracy: 0.5754\n",
            "Epoch 5/15\n",
            "1723/1723 [==============================] - 32s 19ms/step - loss: 1.3438 - accuracy: 0.5421 - val_loss: 1.3327 - val_accuracy: 0.5290\n",
            "Epoch 6/15\n",
            "1723/1723 [==============================] - 32s 19ms/step - loss: 1.2437 - accuracy: 0.5844 - val_loss: 1.0668 - val_accuracy: 0.6566\n",
            "Epoch 7/15\n",
            "1723/1723 [==============================] - 32s 19ms/step - loss: 1.1660 - accuracy: 0.6216 - val_loss: 1.0903 - val_accuracy: 0.6775\n",
            "Epoch 8/15\n",
            "1723/1723 [==============================] - 32s 18ms/step - loss: 1.1214 - accuracy: 0.6164 - val_loss: 1.0751 - val_accuracy: 0.6265\n",
            "Epoch 9/15\n",
            "1723/1723 [==============================] - 32s 19ms/step - loss: 1.1056 - accuracy: 0.6361 - val_loss: 1.0071 - val_accuracy: 0.6821\n",
            "Epoch 10/15\n",
            "1723/1723 [==============================] - 32s 19ms/step - loss: 1.0582 - accuracy: 0.6407 - val_loss: 1.0605 - val_accuracy: 0.6543\n",
            "Epoch 11/15\n",
            "1723/1723 [==============================] - 32s 19ms/step - loss: 1.0165 - accuracy: 0.6651 - val_loss: 1.0439 - val_accuracy: 0.6473\n",
            "Epoch 12/15\n",
            "1723/1723 [==============================] - 32s 19ms/step - loss: 0.9953 - accuracy: 0.6547 - val_loss: 0.9993 - val_accuracy: 0.6473\n",
            "Epoch 13/15\n",
            "1723/1723 [==============================] - 32s 19ms/step - loss: 0.9471 - accuracy: 0.6750 - val_loss: 1.0686 - val_accuracy: 0.6056\n",
            "Epoch 14/15\n",
            "1723/1723 [==============================] - 32s 19ms/step - loss: 0.9453 - accuracy: 0.6703 - val_loss: 1.0016 - val_accuracy: 0.6497\n",
            "Epoch 15/15\n",
            "1723/1723 [==============================] - 32s 19ms/step - loss: 0.9326 - accuracy: 0.6878 - val_loss: 1.0225 - val_accuracy: 0.6543\n"
          ],
          "name": "stdout"
        },
        {
          "output_type": "display_data",
          "data": {
            "image/png": "[encoded data removed]",
            "text/plain": [
              "<Figure size 432x288 with 1 Axes>"
            ]
          },
          "metadata": {
            "tags": [],
            "needs_background": "light"
          }
        }
      ]
    },
    {
      "cell_type": "markdown",
      "metadata": {
        "id": "TLhU6OeDezwS",
        "colab_type": "text"
      },
      "source": [
        "# Teil 7 - Evaluieren"
      ]
    },
    {
      "cell_type": "code",
      "metadata": {
        "id": "kuxUyhvGu8WL",
        "colab_type": "code",
        "colab": {}
      },
      "source": [
        "model.save(\"DeepPiCar.h5\")"
      ],
      "execution_count": 0,
      "outputs": []
    },
    {
      "cell_type": "code",
      "metadata": {
        "id": "8c_b4e9k56EN",
        "colab_type": "code",
        "colab": {}
      },
      "source": [
        "#--kategorisch in numerisch umwandeln--#\n",
        "def auswertung_steuerwinkel(y):\n",
        "  max = 0\n",
        "  for i in range(len(y)):\n",
        "    if(y[i] > y[max]):\n",
        "      max = i\n",
        "  return max \n",
        "\n",
        "#--Vorhersagen--#\n",
        "def vorhersage(X):\n",
        "  model = load_model('DeepPiCar.h5')\n",
        "  y_pred = model.predict(X)\n",
        "  return y_pred"
      ],
      "execution_count": 0,
      "outputs": []
    },
    {
      "cell_type": "code",
      "metadata": {
        "id": "DMfkuGFS3LHN",
        "colab_type": "code",
        "outputId": "7454be8a-89e4-4a3c-bd18-9bb05e962f9e",
        "colab": {
          "base_uri": "https://localhost:8080/",
          "height": 35
        }
      },
      "source": [
        "#--Testdaten generieren--#4\n",
        "bs = 50\n",
        "test_batches = ImageDataGenerator().flow_from_directory(valid_dir, target_size = (108, 146), classes=classes, batch_size = bs)\n",
        "X_test, y_test = next(test_batches)\n",
        "y_pred = vorhersage(X_test)"
      ],
      "execution_count": 36,
      "outputs": [
        {
          "output_type": "stream",
          "text": [
            "Found 431 images belonging to 19 classes.\n"
          ],
          "name": "stdout"
        }
      ]
    },
    {
      "cell_type": "code",
      "metadata": {
        "id": "kDo5xr0C-Ghz",
        "colab_type": "code",
        "outputId": "78c0a52b-fb5c-449c-8902-f25295ef97d9",
        "colab": {
          "base_uri": "https://localhost:8080/",
          "height": 305
        }
      },
      "source": [
        "#--Anzeigen--#\n",
        "num = random.randint(0, bs - 1)\n",
        "gemessener_winkel = (vorbereitung_steuerwinkel(y_test[num]) + 1)* 10\n",
        "ausgewerteter_winkel = auswertung_steuerwinkel(y_pred[num]) * 10\n",
        "print(f\"Gemessener Winkel = {gemessener_winkel}, Vorhergesagter Winkel = {ausgewerteter_winkel}\")\n",
        "plt.imshow(X_test[num] / 255) #damit werte von 0 bis eins sind"
      ],
      "execution_count": 46,
      "outputs": [
        {
          "output_type": "stream",
          "text": [
            "Gemessener Winkel = 120, Vorhergesagter Winkel = 120\n"
          ],
          "name": "stdout"
        },
        {
          "output_type": "execute_result",
          "data": {
            "text/plain": [
              "<matplotlib.image.AxesImage at 0x7f3380502400>"
            ]
          },
          "metadata": {
            "tags": []
          },
          "execution_count": 46
        },
        {
          "output_type": "display_data",
          "data": {
            "image/png": "[encoded data removed]",
            "text/plain": [
              "<Figure size 432x288 with 1 Axes>"
            ]
          },
          "metadata": {
            "tags": [],
            "needs_background": "light"
          }
        }
      ]
    }
  ]
}