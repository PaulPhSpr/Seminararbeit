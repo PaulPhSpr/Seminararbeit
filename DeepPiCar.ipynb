{
  "nbformat": 4,
  "nbformat_minor": 0,
  "metadata": {
    "colab": {
      "name": "DeepPiCar.ipynb",
      "provenance": [],
      "collapsed_sections": [],
      "toc_visible": true,
      "include_colab_link": true
    },
    "kernelspec": {
      "name": "python3",
      "display_name": "Python 3"
    },
    "accelerator": "GPU"
  },
  "cells": [
    {
      "cell_type": "markdown",
      "metadata": {
        "id": "view-in-github",
        "colab_type": "text"
      },
      "source": [
        "<a href=\"https://colab.research.google.com/github/PaulPhSpr/Seminararbeit/blob/master/DeepPiCar.ipynb\" target=\"_parent\"><img src=\"https://colab.research.google.com/assets/colab-badge.svg\" alt=\"Open In Colab\"/></a>"
      ]
    },
    {
      "cell_type": "markdown",
      "metadata": {
        "id": "0lpaA2kanH67",
        "colab_type": "text"
      },
      "source": [
        "# **Das Notebook zum Training des DeepPiCar**"
      ]
    },
    {
      "cell_type": "markdown",
      "metadata": {
        "id": "wxEoHiEYnScI",
        "colab_type": "text"
      },
      "source": [
        "Teil 3 ist adaptiert aus: Tian, David (2019). DeepPiCar - Part 5. Zuletzt abgerufen am 27.05.2020. Verfügbar unter: https://towardsdatascience.com/deeppicar-part-5-lane-following-via-deep-learning-d93acdce6110"
      ]
    },
    {
      "cell_type": "markdown",
      "metadata": {
        "id": "R6b6MIhrnUbP",
        "colab_type": "text"
      },
      "source": [
        "# Teil 1 - Import der Bibliotheken"
      ]
    },
    {
      "cell_type": "code",
      "metadata": {
        "id": "x2oQReGvdKsy",
        "colab_type": "code",
        "colab": {
          "base_uri": "https://localhost:8080/",
          "height": 955
        },
        "outputId": "139c36be-2d6d-43da-d33f-1048925adf41"
      },
      "source": [
        "!pip install tensorflow==2.2.0"
      ],
      "execution_count": 1,
      "outputs": [
        {
          "output_type": "stream",
          "text": [
            "Collecting tensorflow==2.2.0\n",
            "\u001b[?25l  Downloading https://files.pythonhosted.org/packages/3d/be/679ce5254a8c8d07470efb4a4c00345fae91f766e64f1c2aece8796d7218/tensorflow-2.2.0-cp36-cp36m-manylinux2010_x86_64.whl (516.2MB)\n",
            "\u001b[K     |████████████████████████████████| 516.2MB 31kB/s \n",
            "\u001b[?25hRequirement already satisfied: protobuf>=3.8.0 in /usr/local/lib/python3.6/dist-packages (from tensorflow==2.2.0) (3.12.4)\n",
            "Collecting tensorboard<2.3.0,>=2.2.0\n",
            "\u001b[?25l  Downloading https://files.pythonhosted.org/packages/1d/74/0a6fcb206dcc72a6da9a62dd81784bfdbff5fedb099982861dc2219014fb/tensorboard-2.2.2-py3-none-any.whl (3.0MB)\n",
            "\u001b[K     |████████████████████████████████| 3.0MB 39.7MB/s \n",
            "\u001b[?25hRequirement already satisfied: grpcio>=1.8.6 in /usr/local/lib/python3.6/dist-packages (from tensorflow==2.2.0) (1.31.0)\n",
            "Requirement already satisfied: wheel>=0.26; python_version >= \"3\" in /usr/local/lib/python3.6/dist-packages (from tensorflow==2.2.0) (0.35.1)\n",
            "Requirement already satisfied: six>=1.12.0 in /usr/local/lib/python3.6/dist-packages (from tensorflow==2.2.0) (1.15.0)\n",
            "Requirement already satisfied: absl-py>=0.7.0 in /usr/local/lib/python3.6/dist-packages (from tensorflow==2.2.0) (0.8.1)\n",
            "Requirement already satisfied: scipy==1.4.1; python_version >= \"3\" in /usr/local/lib/python3.6/dist-packages (from tensorflow==2.2.0) (1.4.1)\n",
            "Requirement already satisfied: gast==0.3.3 in /usr/local/lib/python3.6/dist-packages (from tensorflow==2.2.0) (0.3.3)\n",
            "Requirement already satisfied: h5py<2.11.0,>=2.10.0 in /usr/local/lib/python3.6/dist-packages (from tensorflow==2.2.0) (2.10.0)\n",
            "Requirement already satisfied: keras-preprocessing>=1.1.0 in /usr/local/lib/python3.6/dist-packages (from tensorflow==2.2.0) (1.1.2)\n",
            "Requirement already satisfied: termcolor>=1.1.0 in /usr/local/lib/python3.6/dist-packages (from tensorflow==2.2.0) (1.1.0)\n",
            "Requirement already satisfied: opt-einsum>=2.3.2 in /usr/local/lib/python3.6/dist-packages (from tensorflow==2.2.0) (3.3.0)\n",
            "Collecting tensorflow-estimator<2.3.0,>=2.2.0\n",
            "\u001b[?25l  Downloading https://files.pythonhosted.org/packages/a4/f5/926ae53d6a226ec0fda5208e0e581cffed895ccc89e36ba76a8e60895b78/tensorflow_estimator-2.2.0-py2.py3-none-any.whl (454kB)\n",
            "\u001b[K     |████████████████████████████████| 460kB 39.9MB/s \n",
            "\u001b[?25hRequirement already satisfied: astunparse==1.6.3 in /usr/local/lib/python3.6/dist-packages (from tensorflow==2.2.0) (1.6.3)\n",
            "Requirement already satisfied: numpy<2.0,>=1.16.0 in /usr/local/lib/python3.6/dist-packages (from tensorflow==2.2.0) (1.18.5)\n",
            "Requirement already satisfied: google-pasta>=0.1.8 in /usr/local/lib/python3.6/dist-packages (from tensorflow==2.2.0) (0.2.0)\n",
            "Requirement already satisfied: wrapt>=1.11.1 in /usr/local/lib/python3.6/dist-packages (from tensorflow==2.2.0) (1.12.1)\n",
            "Requirement already satisfied: setuptools in /usr/local/lib/python3.6/dist-packages (from protobuf>=3.8.0->tensorflow==2.2.0) (49.6.0)\n",
            "Requirement already satisfied: werkzeug>=0.11.15 in /usr/local/lib/python3.6/dist-packages (from tensorboard<2.3.0,>=2.2.0->tensorflow==2.2.0) (1.0.1)\n",
            "Requirement already satisfied: markdown>=2.6.8 in /usr/local/lib/python3.6/dist-packages (from tensorboard<2.3.0,>=2.2.0->tensorflow==2.2.0) (3.2.2)\n",
            "Requirement already satisfied: requests<3,>=2.21.0 in /usr/local/lib/python3.6/dist-packages (from tensorboard<2.3.0,>=2.2.0->tensorflow==2.2.0) (2.23.0)\n",
            "Requirement already satisfied: google-auth-oauthlib<0.5,>=0.4.1 in /usr/local/lib/python3.6/dist-packages (from tensorboard<2.3.0,>=2.2.0->tensorflow==2.2.0) (0.4.1)\n",
            "Requirement already satisfied: google-auth<2,>=1.6.3 in /usr/local/lib/python3.6/dist-packages (from tensorboard<2.3.0,>=2.2.0->tensorflow==2.2.0) (1.17.2)\n",
            "Requirement already satisfied: tensorboard-plugin-wit>=1.6.0 in /usr/local/lib/python3.6/dist-packages (from tensorboard<2.3.0,>=2.2.0->tensorflow==2.2.0) (1.7.0)\n",
            "Requirement already satisfied: importlib-metadata; python_version < \"3.8\" in /usr/local/lib/python3.6/dist-packages (from markdown>=2.6.8->tensorboard<2.3.0,>=2.2.0->tensorflow==2.2.0) (1.7.0)\n",
            "Requirement already satisfied: certifi>=2017.4.17 in /usr/local/lib/python3.6/dist-packages (from requests<3,>=2.21.0->tensorboard<2.3.0,>=2.2.0->tensorflow==2.2.0) (2020.6.20)\n",
            "Requirement already satisfied: urllib3!=1.25.0,!=1.25.1,<1.26,>=1.21.1 in /usr/local/lib/python3.6/dist-packages (from requests<3,>=2.21.0->tensorboard<2.3.0,>=2.2.0->tensorflow==2.2.0) (1.24.3)\n",
            "Requirement already satisfied: chardet<4,>=3.0.2 in /usr/local/lib/python3.6/dist-packages (from requests<3,>=2.21.0->tensorboard<2.3.0,>=2.2.0->tensorflow==2.2.0) (3.0.4)\n",
            "Requirement already satisfied: idna<3,>=2.5 in /usr/local/lib/python3.6/dist-packages (from requests<3,>=2.21.0->tensorboard<2.3.0,>=2.2.0->tensorflow==2.2.0) (2.10)\n",
            "Requirement already satisfied: requests-oauthlib>=0.7.0 in /usr/local/lib/python3.6/dist-packages (from google-auth-oauthlib<0.5,>=0.4.1->tensorboard<2.3.0,>=2.2.0->tensorflow==2.2.0) (1.3.0)\n",
            "Requirement already satisfied: cachetools<5.0,>=2.0.0 in /usr/local/lib/python3.6/dist-packages (from google-auth<2,>=1.6.3->tensorboard<2.3.0,>=2.2.0->tensorflow==2.2.0) (4.1.1)\n",
            "Requirement already satisfied: pyasn1-modules>=0.2.1 in /usr/local/lib/python3.6/dist-packages (from google-auth<2,>=1.6.3->tensorboard<2.3.0,>=2.2.0->tensorflow==2.2.0) (0.2.8)\n",
            "Requirement already satisfied: rsa<5,>=3.1.4; python_version >= \"3\" in /usr/local/lib/python3.6/dist-packages (from google-auth<2,>=1.6.3->tensorboard<2.3.0,>=2.2.0->tensorflow==2.2.0) (4.6)\n",
            "Requirement already satisfied: zipp>=0.5 in /usr/local/lib/python3.6/dist-packages (from importlib-metadata; python_version < \"3.8\"->markdown>=2.6.8->tensorboard<2.3.0,>=2.2.0->tensorflow==2.2.0) (3.1.0)\n",
            "Requirement already satisfied: oauthlib>=3.0.0 in /usr/local/lib/python3.6/dist-packages (from requests-oauthlib>=0.7.0->google-auth-oauthlib<0.5,>=0.4.1->tensorboard<2.3.0,>=2.2.0->tensorflow==2.2.0) (3.1.0)\n",
            "Requirement already satisfied: pyasn1<0.5.0,>=0.4.6 in /usr/local/lib/python3.6/dist-packages (from pyasn1-modules>=0.2.1->google-auth<2,>=1.6.3->tensorboard<2.3.0,>=2.2.0->tensorflow==2.2.0) (0.4.8)\n",
            "Installing collected packages: tensorboard, tensorflow-estimator, tensorflow\n",
            "  Found existing installation: tensorboard 2.3.0\n",
            "    Uninstalling tensorboard-2.3.0:\n",
            "      Successfully uninstalled tensorboard-2.3.0\n",
            "  Found existing installation: tensorflow-estimator 2.3.0\n",
            "    Uninstalling tensorflow-estimator-2.3.0:\n",
            "      Successfully uninstalled tensorflow-estimator-2.3.0\n",
            "  Found existing installation: tensorflow 2.3.0\n",
            "    Uninstalling tensorflow-2.3.0:\n",
            "      Successfully uninstalled tensorflow-2.3.0\n",
            "Successfully installed tensorboard-2.2.2 tensorflow-2.2.0 tensorflow-estimator-2.2.0\n"
          ],
          "name": "stdout"
        }
      ]
    },
    {
      "cell_type": "code",
      "metadata": {
        "id": "ruhkpFbTm9YM",
        "colab_type": "code",
        "colab": {
          "base_uri": "https://localhost:8080/",
          "height": 204
        },
        "outputId": "8f4010f4-8684-4343-b577-d46bbca22615"
      },
      "source": [
        "#--Standart-Bibliotheken--#\n",
        "import os #zum Arbeiten mit Dateipfaden\n",
        "import random \n",
        "import numpy as np\n",
        "\n",
        "#--Machine Learning--#\n",
        "import tensorflow as tf\n",
        "from tensorflow.keras.models import Model #zum Zusammenbauen\n",
        "from tensorflow.keras.layers import Conv2D, MaxPooling2D, Input, Flatten, Dense #verschiedene Layer\n",
        "from tensorflow.keras.optimizers import SGD #Stochastic Gradient Descent\n",
        "from tensorflow.keras.models import load_model #für das Laden\n",
        "from tensorflow.keras.preprocessing.image import ImageDataGenerator\n",
        "\n",
        "#--Graphik--#\n",
        "import cv2\n",
        "from imgaug import augmenters as img_aug #Data Augmentation\n",
        "import matplotlib.image as mpimg\n",
        "import matplotlib.pyplot as plt\n",
        "%matplotlib inline \n",
        "from PIL import ImageFilter, Image #um Bilder zu bearbeiten und anzuzeigen\n",
        "\n",
        "#--Auswertung--#\n",
        "!pip3 install deeplearning2020\n",
        "from deeplearning2020 import helpers #(OpenHPI, 2020)"
      ],
      "execution_count": 4,
      "outputs": [
        {
          "output_type": "stream",
          "text": [
            "Requirement already satisfied: deeplearning2020 in /usr/local/lib/python3.6/dist-packages (0.4.21)\n",
            "Requirement already satisfied: kerasltisubmission>=0.4.9 in /usr/local/lib/python3.6/dist-packages (from deeplearning2020) (0.4.9)\n",
            "Requirement already satisfied: numpy in /usr/local/lib/python3.6/dist-packages (from kerasltisubmission>=0.4.9->deeplearning2020) (1.18.5)\n",
            "Requirement already satisfied: requests in /usr/local/lib/python3.6/dist-packages (from kerasltisubmission>=0.4.9->deeplearning2020) (2.23.0)\n",
            "Requirement already satisfied: progressbar2 in /usr/local/lib/python3.6/dist-packages (from kerasltisubmission>=0.4.9->deeplearning2020) (3.38.0)\n",
            "Requirement already satisfied: chardet<4,>=3.0.2 in /usr/local/lib/python3.6/dist-packages (from requests->kerasltisubmission>=0.4.9->deeplearning2020) (3.0.4)\n",
            "Requirement already satisfied: urllib3!=1.25.0,!=1.25.1,<1.26,>=1.21.1 in /usr/local/lib/python3.6/dist-packages (from requests->kerasltisubmission>=0.4.9->deeplearning2020) (1.24.3)\n",
            "Requirement already satisfied: certifi>=2017.4.17 in /usr/local/lib/python3.6/dist-packages (from requests->kerasltisubmission>=0.4.9->deeplearning2020) (2020.6.20)\n",
            "Requirement already satisfied: idna<3,>=2.5 in /usr/local/lib/python3.6/dist-packages (from requests->kerasltisubmission>=0.4.9->deeplearning2020) (2.10)\n",
            "Requirement already satisfied: six in /usr/local/lib/python3.6/dist-packages (from progressbar2->kerasltisubmission>=0.4.9->deeplearning2020) (1.15.0)\n",
            "Requirement already satisfied: python-utils>=2.3.0 in /usr/local/lib/python3.6/dist-packages (from progressbar2->kerasltisubmission>=0.4.9->deeplearning2020) (2.4.0)\n"
          ],
          "name": "stdout"
        }
      ]
    },
    {
      "cell_type": "code",
      "metadata": {
        "id": "-nJd084zhnsZ",
        "colab_type": "code",
        "colab": {
          "base_uri": "https://localhost:8080/",
          "height": 35
        },
        "outputId": "345ffd3e-bc45-4848-b9b8-7a2db5912a62"
      },
      "source": [
        "tf.__version__"
      ],
      "execution_count": 5,
      "outputs": [
        {
          "output_type": "execute_result",
          "data": {
            "application/vnd.google.colaboratory.intrinsic+json": {
              "type": "string"
            },
            "text/plain": [
              "'2.2.0'"
            ]
          },
          "metadata": {
            "tags": []
          },
          "execution_count": 5
        }
      ]
    },
    {
      "cell_type": "markdown",
      "metadata": {
        "id": "wASuzqfUn5kv",
        "colab_type": "text"
      },
      "source": [
        "# Teil 2 - Download der Daten"
      ]
    },
    {
      "cell_type": "code",
      "metadata": {
        "id": "GJfiofyRqwnx",
        "colab_type": "code",
        "colab": {
          "base_uri": "https://localhost:8080/",
          "height": 102
        },
        "outputId": "0c66509f-45f7-4de9-f352-99652cdd1b9d"
      },
      "source": [
        "#--Daten aus GitHub herunterladen--#\n",
        "!cd /content\n",
        "!git clone https://github.com/PaulPhSpr/Seminararbeit "
      ],
      "execution_count": 6,
      "outputs": [
        {
          "output_type": "stream",
          "text": [
            "Cloning into 'Seminararbeit'...\n",
            "remote: Enumerating objects: 5327, done.\u001b[K\n",
            "remote: Total 5327 (delta 0), reused 0 (delta 0), pack-reused 5327\u001b[K\n",
            "Receiving objects: 100% (5327/5327), 102.54 MiB | 10.83 MiB/s, done.\n",
            "Resolving deltas: 100% (86/86), done.\n"
          ],
          "name": "stdout"
        }
      ]
    },
    {
      "cell_type": "code",
      "metadata": {
        "id": "z27QDB1xoCaP",
        "colab_type": "code",
        "colab": {}
      },
      "source": [
        "#--Speicherorte angeben--#\n",
        "bas_dir = \"Seminararbeit/Datensatz\"\n",
        "train_dir = os.path.join(bas_dir, \"train\")\n",
        "valid_dir = os.path.join(bas_dir, \"valid\")\n",
        "\n",
        "#--Anzahl der Klassen --#\n",
        "num_of_classes = 19"
      ],
      "execution_count": 7,
      "outputs": []
    },
    {
      "cell_type": "markdown",
      "metadata": {
        "id": "5LOribrLxn3G",
        "colab_type": "text"
      },
      "source": [
        "# Teil 3 - Data Augmentation"
      ]
    },
    {
      "cell_type": "code",
      "metadata": {
        "id": "4A0Cm_0nzgxe",
        "colab_type": "code",
        "colab": {}
      },
      "source": [
        "#--Zoom--#\n",
        "def zoom(bild):\n",
        "  zoom = img_aug.Affine(scale=(1, 1.3)) #zufälliger zoom zwischen 100% und 130%\n",
        "  bild = zoom.augment_image(bild)\n",
        "  return bild\n",
        "\n",
        "#--Rotation um 180°--#\n",
        "def flip(bild, steuerwinkel):\n",
        "  if(np.random.rand() < 0.5):\n",
        "    bild = cv2.flip(bild, 1)\n",
        "    steuerwinkel = num_of_classes - 1 - steuerwinkel\n",
        "  return bild, steuerwinkel\n",
        "\n",
        "#--Unschärfe--#\n",
        "def blur(bild):\n",
        "  kernel = random.randint(1,5) #alles darüber zu verschwommen\n",
        "  bild = cv2.blur(bild, (kernel, kernel))\n",
        "  return bild\n",
        "\n",
        "def hell(bild):\n",
        "  helligkeit = img_aug.Multiply((0.7, 1.3)) #70%-130%\n",
        "  bild = helligkeit.augment_image(bild)\n",
        "  return bild\n",
        "\n",
        "#--Zusammenbringen--#\n",
        "def augmentation(bild, steuerwinkel):\n",
        "  augmentation_prob = 0.7\n",
        "  if np.random.rand() < augmentation_prob:\n",
        "    bild = zoom(bild)\n",
        "  if np.random.rand() < augmentation_prob:\n",
        "    bild = blur(bild)\n",
        "  if np.random.rand() < augmentation_prob:\n",
        "    bild = hell(bild)\n",
        "  bild, steuerwinkel = flip(bild, steuerwinkel)\n",
        "  return bild, steuerwinkel"
      ],
      "execution_count": 8,
      "outputs": []
    },
    {
      "cell_type": "markdown",
      "metadata": {
        "id": "nGAfTiB_znkM",
        "colab_type": "text"
      },
      "source": [
        "# Teil 4 - Daten vorbereiten für Training"
      ]
    },
    {
      "cell_type": "code",
      "metadata": {
        "id": "zWxeaWxBxnVN",
        "colab_type": "code",
        "colab": {}
      },
      "source": [
        "#--Bilder standardisieren--#\n",
        "def vorbereitung_bild(bild):\n",
        "  bild = Image.fromarray((bild).astype(np.uint8)) #nur dieses Dateiformat wird von Pillow akzeptiert\n",
        "  bild = bild.resize((54, 73)) #runterskalieren\n",
        "  bild = cv2.cvtColor(np.array(bild), cv2.COLOR_BGR2RGB) #in numpy bild umwandeln\n",
        "  bild = bild[32:,:] #nur untere hälfte relevant\n",
        "  return bild\n",
        "\n",
        "#--Aus Categorical zu Numeric, [0, 0, 1, 0] --> 2\n",
        "def vorbereitung_steuerwinkel(winkel):\n",
        "  for i in range(num_of_classes):\n",
        "    if winkel[i] != 0:\n",
        "      return i\n",
        "\n",
        "#--Bildgenerator für Trainingsprozess--#\n",
        "def bild_dat_generator(bilder, steuerwinkel, trainiert, anzahl = 20000):\n",
        "  batch_bild = []\n",
        "  batch_steuerwinkel = []\n",
        "\n",
        "  #so viele Bilder wie angeben ausgeben\n",
        "  if not trainiert:\n",
        "    anzahl //= 4 #20% validierungsdaten\n",
        "\n",
        "  for i in range(anzahl):\n",
        "    rand_i = random.randint(0, len(bilder)-1) #ein Bild aussuchen\n",
        "\n",
        "    #bild nehmen\n",
        "    bild = bilder[rand_i]\n",
        "    bild = vorbereitung_bild(bild)\n",
        "\n",
        "    #steuerwinkel nehmen\n",
        "    str_winkel = steuerwinkel[rand_i]\n",
        "    str_winkel = vorbereitung_steuerwinkel(str_winkel) \n",
        "\n",
        "    #Augmentation\n",
        "    if(trainiert):\n",
        "      bild, str_winkel = augmentation(bild, str_winkel)\n",
        "\n",
        "    bild = cv2.cvtColor(bild, cv2.COLOR_BGR2RGB)\n",
        "    #Abspeichern\n",
        "    batch_bild.append(bild)\n",
        "    batch_steuerwinkel.append(str_winkel)\n",
        "\n",
        "  return np.asarray(batch_bild), np.asarray(batch_steuerwinkel)"
      ],
      "execution_count": 9,
      "outputs": []
    },
    {
      "cell_type": "code",
      "metadata": {
        "id": "K6tUP8WgCeQl",
        "colab_type": "code",
        "colab": {
          "base_uri": "https://localhost:8080/",
          "height": 51
        },
        "outputId": "ecb13fe7-3d21-4b82-c796-40e60fb1055f"
      },
      "source": [
        "#--Batches--#\n",
        "classes = [\"class\" + str(i) for i in range(1, num_of_classes + 1)]\n",
        "bs_train = 2372\n",
        "bs_valid = 593\n",
        "train_batches = ImageDataGenerator().flow_from_directory(train_dir, target_size = (73, 54), classes=classes, batch_size = bs_train) \n",
        "valid_batches = ImageDataGenerator().flow_from_directory(valid_dir, target_size = (73, 54), classes=classes, batch_size = bs_valid)"
      ],
      "execution_count": 10,
      "outputs": [
        {
          "output_type": "stream",
          "text": [
            "Found 2372 images belonging to 19 classes.\n",
            "Found 593 images belonging to 19 classes.\n"
          ],
          "name": "stdout"
        }
      ]
    },
    {
      "cell_type": "code",
      "metadata": {
        "id": "CSduVwcpdjHS",
        "colab_type": "code",
        "colab": {}
      },
      "source": [
        "#--Trainingsdaten zusammenführen--#\n",
        "#Trainingsdaten\n",
        "bilder, label = next(train_batches)\n",
        "X_train, y_train = bild_dat_generator(bilder, label, True)\n",
        "#Validierungsdaten\n",
        "bilder, label = next(valid_batches)\n",
        "valid_data = bild_dat_generator(bilder, label, False)"
      ],
      "execution_count": 11,
      "outputs": []
    },
    {
      "cell_type": "markdown",
      "metadata": {
        "id": "99IAhYgR-Rvi",
        "colab_type": "text"
      },
      "source": [
        "# Teil 5 - Baue Modell"
      ]
    },
    {
      "cell_type": "code",
      "metadata": {
        "id": "dW_sqCMN-VIa",
        "colab_type": "code",
        "colab": {}
      },
      "source": [
        "def buildModel(dense_neurons = 2000, lr = 0.0001, n = 0):\n",
        "  #--Params--#\n",
        "  momentum = 0.9 #Parameter für SGD, entspricht Trägheit beim Abstieg\n",
        "  #dense_neurons = 2000\n",
        "  #lr = 0.0001 #learning rate\n",
        "  #n = 0 #anzahl an filtern\n",
        "\n",
        "  activation = \"elu\" #Aktivierungsfunktion\n",
        "\n",
        "  input_layer = Input(shape=(41, 54, 3), name = \"Input\")\n",
        "\n",
        "  #--Convultional Layers--#\n",
        "  model = Conv2D(filters = 256 + n*64, kernel_size = (5, 5), activation = activation, padding=\"same\", name = \"Conv2D_1\") (input_layer)\n",
        "  model = MaxPooling2D((2,2), name = \"MaxPool2D_1\") (model)\n",
        "  model = Conv2D(filters = 320 + n*64, kernel_size = (5, 5), activation = activation, padding=\"same\", name = \"Conv2D_2\") (model)\n",
        "  model = MaxPooling2D((2,2), name = \"MaxPool2D_2\") (model)\n",
        "  model = Conv2D(filters = 394 + n*64, kernel_size = (5, 5), activation = activation, padding=\"same\", name = \"Conv2D_3\") (model)\n",
        "  model = MaxPooling2D((2,2), name = \"MaxPool2D_3\") (model)\n",
        "  model = Conv2D(filters = 458 + n*64, kernel_size = (3, 3), activation = activation, padding=\"same\", name = \"Conv2D_4\") (model)\n",
        "  model = MaxPooling2D((2,2), name = \"MaxPool2D_4\") (model)\n",
        "  model = Conv2D(filters = 524 + n*64, kernel_size = (3, 3), activation = activation, padding=\"same\", name = \"Conv2D_5\") (model)\n",
        "  model = MaxPooling2D((2,2), name = \"MaxPool2D_5\") (model)\n",
        "\n",
        "  #--Dense Layers--#\n",
        "  model = Flatten(name = \"Flatten\") (model)\n",
        "  model = Dense(dense_neurons, activation=activation, name = \"Dense_1\") (model)\n",
        "  model = Dense(dense_neurons // 2, activation=\"tanh\", name = \"Dense_2\") (model)\n",
        "\n",
        "  #--Output--#\n",
        "  #out = Dense(num_of_classes, activation = \"softmax\") (model)\n",
        "  out = Dense(num_of_classes, activation = \"softmax\", name = \"Output\") (model)\n",
        "  CNN_model = Model(input_layer, out)\n",
        "\n",
        "  #--Wie lernen?--#\n",
        "  opt = SGD(lr=lr, momentum=momentum)\n",
        "\n",
        "  return CNN_model, opt"
      ],
      "execution_count": 12,
      "outputs": []
    },
    {
      "cell_type": "code",
      "metadata": {
        "id": "EwW8NiHNbOTR",
        "colab_type": "code",
        "colab": {
          "base_uri": "https://localhost:8080/",
          "height": 34
        },
        "outputId": "f24a054e-863a-4c30-af8a-bb53633be09a"
      },
      "source": [
        "models = []\n",
        "opts = []\n",
        "\n",
        "#--Berechnen--#\n",
        "for i in range(1, 3):\n",
        "  for j in range(1, 4):\n",
        "    for k in range(1, 4):\n",
        "      model, opt = buildModel(dense_neurons = 1500 * i, lr = 0.00001 *j*j, n = k - 1)\n",
        "      models.append(model)\n",
        "      opts.append(opt)\n",
        "\n",
        "#--Kompilieren und Ausgeben--#\n",
        "for i in range(len(models)):\n",
        "  models[i].compile(loss=\"sparse_categorical_crossentropy\", optimizer=opts[i], metrics=[\"accuracy\"])\n",
        "  #print(models[i].summary())\n",
        "\n",
        "print(len(models))"
      ],
      "execution_count": 13,
      "outputs": [
        {
          "output_type": "stream",
          "text": [
            "18\n"
          ],
          "name": "stdout"
        }
      ]
    },
    {
      "cell_type": "markdown",
      "metadata": {
        "id": "wRVCp-gF-XOT",
        "colab_type": "text"
      },
      "source": [
        "# Teil 6 - Das Modell trainieren"
      ]
    },
    {
      "cell_type": "code",
      "metadata": {
        "id": "svZgfeYm-bzD",
        "colab_type": "code",
        "colab": {
          "base_uri": "https://localhost:8080/",
          "height": 1000
        },
        "outputId": "996d5fa6-6861-42e0-abea-de5a111dddb9"
      },
      "source": [
        "#--Training--#\n",
        "history = models[3].fit(\n",
        "  X_train, y_train, #Trainingsdaten generieren\n",
        "  validation_data = valid_data, #Validierungsdaten generieren\n",
        "  epochs = 20, #anzahl durchgänge\n",
        ")\n",
        "\n",
        "#--Trainings und Validierungsgenauigkeit anzeigen--#\n",
        "helpers.plot_history(\"Accuracy\", history, 0)\n",
        "\n",
        "#Direkt abspeichern bevor Laufzeit abbrechen könnte\n",
        "models[3].save(\"DeepPiCar\")\n",
        "!zip -r ./CNN.zip ./DeepPiCar/\n",
        "models[3].save(\"DeepPiCar.pb\")\n",
        "models[3].save(\"DeepPiCar.h5\")"
      ],
      "execution_count": 14,
      "outputs": [
        {
          "output_type": "stream",
          "text": [
            "Epoch 1/20\n",
            "625/625 [==============================] - 17s 27ms/step - loss: 2.0979 - accuracy: 0.2860 - val_loss: 1.8314 - val_accuracy: 0.4098\n",
            "Epoch 2/20\n",
            "625/625 [==============================] - 16s 26ms/step - loss: 1.8768 - accuracy: 0.3392 - val_loss: 1.6372 - val_accuracy: 0.4120\n",
            "Epoch 3/20\n",
            "625/625 [==============================] - 16s 26ms/step - loss: 1.5665 - accuracy: 0.4373 - val_loss: 1.3251 - val_accuracy: 0.5006\n",
            "Epoch 4/20\n",
            "625/625 [==============================] - 16s 26ms/step - loss: 1.3228 - accuracy: 0.5226 - val_loss: 1.1131 - val_accuracy: 0.6116\n",
            "Epoch 5/20\n",
            "625/625 [==============================] - 16s 26ms/step - loss: 1.1558 - accuracy: 0.5817 - val_loss: 1.0063 - val_accuracy: 0.6368\n",
            "Epoch 6/20\n",
            "625/625 [==============================] - 16s 26ms/step - loss: 1.0412 - accuracy: 0.6248 - val_loss: 0.9479 - val_accuracy: 0.6680\n",
            "Epoch 7/20\n",
            "625/625 [==============================] - 16s 26ms/step - loss: 0.9643 - accuracy: 0.6526 - val_loss: 0.9018 - val_accuracy: 0.6982\n",
            "Epoch 8/20\n",
            "625/625 [==============================] - 16s 26ms/step - loss: 0.8979 - accuracy: 0.6776 - val_loss: 0.8371 - val_accuracy: 0.6786\n",
            "Epoch 9/20\n",
            "625/625 [==============================] - 16s 26ms/step - loss: 0.8493 - accuracy: 0.6964 - val_loss: 0.8357 - val_accuracy: 0.6758\n",
            "Epoch 10/20\n",
            "625/625 [==============================] - 16s 26ms/step - loss: 0.8092 - accuracy: 0.7077 - val_loss: 0.7838 - val_accuracy: 0.7236\n",
            "Epoch 11/20\n",
            "625/625 [==============================] - 16s 26ms/step - loss: 0.7763 - accuracy: 0.7178 - val_loss: 0.7658 - val_accuracy: 0.7284\n",
            "Epoch 12/20\n",
            "625/625 [==============================] - 16s 26ms/step - loss: 0.7470 - accuracy: 0.7288 - val_loss: 0.7227 - val_accuracy: 0.7370\n",
            "Epoch 13/20\n",
            "625/625 [==============================] - 16s 26ms/step - loss: 0.7187 - accuracy: 0.7361 - val_loss: 0.7368 - val_accuracy: 0.7486\n",
            "Epoch 14/20\n",
            "625/625 [==============================] - 16s 26ms/step - loss: 0.6952 - accuracy: 0.7455 - val_loss: 0.7200 - val_accuracy: 0.7360\n",
            "Epoch 15/20\n",
            "625/625 [==============================] - 16s 26ms/step - loss: 0.6695 - accuracy: 0.7537 - val_loss: 0.6856 - val_accuracy: 0.7562\n",
            "Epoch 16/20\n",
            "625/625 [==============================] - 16s 26ms/step - loss: 0.6527 - accuracy: 0.7584 - val_loss: 0.6753 - val_accuracy: 0.7336\n",
            "Epoch 17/20\n",
            "625/625 [==============================] - 16s 26ms/step - loss: 0.6335 - accuracy: 0.7667 - val_loss: 0.6423 - val_accuracy: 0.7748\n",
            "Epoch 18/20\n",
            "625/625 [==============================] - 16s 26ms/step - loss: 0.6180 - accuracy: 0.7684 - val_loss: 0.6387 - val_accuracy: 0.7654\n",
            "Epoch 19/20\n",
            "625/625 [==============================] - 16s 26ms/step - loss: 0.6047 - accuracy: 0.7757 - val_loss: 0.6428 - val_accuracy: 0.7656\n",
            "Epoch 20/20\n",
            "625/625 [==============================] - 16s 26ms/step - loss: 0.5881 - accuracy: 0.7817 - val_loss: 0.6504 - val_accuracy: 0.7712\n",
            "WARNING:tensorflow:From /usr/local/lib/python3.6/dist-packages/tensorflow/python/ops/resource_variable_ops.py:1817: calling BaseResourceVariable.__init__ (from tensorflow.python.ops.resource_variable_ops) with constraint is deprecated and will be removed in a future version.\n",
            "Instructions for updating:\n",
            "If using Keras pass *_constraint arguments to layers.\n",
            "INFO:tensorflow:Assets written to: DeepPiCar/assets\n",
            "  adding: DeepPiCar/ (stored 0%)\n",
            "  adding: DeepPiCar/assets/ (stored 0%)\n",
            "  adding: DeepPiCar/saved_model.pb (deflated 90%)\n",
            "  adding: DeepPiCar/variables/ (stored 0%)\n",
            "  adding: DeepPiCar/variables/variables.data-00000-of-00002 (deflated 81%)\n",
            "  adding: DeepPiCar/variables/variables.index (deflated 68%)\n",
            "  adding: DeepPiCar/variables/variables.data-00001-of-00002 (deflated 7%)\n",
            "INFO:tensorflow:Assets written to: DeepPiCar.pb/assets\n"
          ],
          "name": "stdout"
        },
        {
          "output_type": "display_data",
          "data": {
            "image/png": "[encoded data removed]",
            "text/plain": [
              "<Figure size 432x288 with 1 Axes>"
            ]
          },
          "metadata": {
            "tags": [],
            "needs_background": "light"
          }
        }
      ]
    },
    {
      "cell_type": "markdown",
      "metadata": {
        "id": "TLhU6OeDezwS",
        "colab_type": "text"
      },
      "source": [
        "# Teil 7 - Evaluieren"
      ]
    },
    {
      "cell_type": "code",
      "metadata": {
        "id": "AE8rMLmj0qUP",
        "colab_type": "code",
        "colab": {}
      },
      "source": [
        "model = load_model(\"DeepPiCar\")"
      ],
      "execution_count": 15,
      "outputs": []
    },
    {
      "cell_type": "code",
      "metadata": {
        "id": "G-CBGJqAJcgb",
        "colab_type": "code",
        "colab": {
          "base_uri": "https://localhost:8080/",
          "height": 1000
        },
        "outputId": "fb1a420e-e271-4ac7-9c3c-53ae96b59963"
      },
      "source": [
        "print(model.summary())\n",
        "tf.keras.utils.plot_model(model, to_file=\"cnn.png\")"
      ],
      "execution_count": 17,
      "outputs": [
        {
          "output_type": "stream",
          "text": [
            "Model: \"model_3\"\n",
            "_________________________________________________________________\n",
            "Layer (type)                 Output Shape              Param #   \n",
            "=================================================================\n",
            "Input (InputLayer)           [(None, 41, 54, 3)]       0         \n",
            "_________________________________________________________________\n",
            "Conv2D_1 (Conv2D)            (None, 41, 54, 256)       19456     \n",
            "_________________________________________________________________\n",
            "MaxPool2D_1 (MaxPooling2D)   (None, 20, 27, 256)       0         \n",
            "_________________________________________________________________\n",
            "Conv2D_2 (Conv2D)            (None, 20, 27, 320)       2048320   \n",
            "_________________________________________________________________\n",
            "MaxPool2D_2 (MaxPooling2D)   (None, 10, 13, 320)       0         \n",
            "_________________________________________________________________\n",
            "Conv2D_3 (Conv2D)            (None, 10, 13, 394)       3152394   \n",
            "_________________________________________________________________\n",
            "MaxPool2D_3 (MaxPooling2D)   (None, 5, 6, 394)         0         \n",
            "_________________________________________________________________\n",
            "Conv2D_4 (Conv2D)            (None, 5, 6, 458)         1624526   \n",
            "_________________________________________________________________\n",
            "MaxPool2D_4 (MaxPooling2D)   (None, 2, 3, 458)         0         \n",
            "_________________________________________________________________\n",
            "Conv2D_5 (Conv2D)            (None, 2, 3, 524)         2160452   \n",
            "_________________________________________________________________\n",
            "MaxPool2D_5 (MaxPooling2D)   (None, 1, 1, 524)         0         \n",
            "_________________________________________________________________\n",
            "Flatten (Flatten)            (None, 524)               0         \n",
            "_________________________________________________________________\n",
            "Dense_1 (Dense)              (None, 1500)              787500    \n",
            "_________________________________________________________________\n",
            "Dense_2 (Dense)              (None, 750)               1125750   \n",
            "_________________________________________________________________\n",
            "Output (Dense)               (None, 19)                14269     \n",
            "=================================================================\n",
            "Total params: 10,932,667\n",
            "Trainable params: 10,932,667\n",
            "Non-trainable params: 0\n",
            "_________________________________________________________________\n",
            "None\n"
          ],
          "name": "stdout"
        },
        {
          "output_type": "execute_result",
          "data": {
            "image/png": "[encoded data removed]",
            "text/plain": [
              "<IPython.core.display.Image object>"
            ]
          },
          "metadata": {
            "tags": []
          },
          "execution_count": 17
        }
      ]
    },
    {
      "cell_type": "code",
      "metadata": {
        "id": "8c_b4e9k56EN",
        "colab_type": "code",
        "colab": {}
      },
      "source": [
        "#--kategorisch in numerisch umwandeln--#\n",
        "def auswertung_steuerwinkel(y):\n",
        "  max = 0\n",
        "  for i in range(len(y)):\n",
        "    if(y[i] > y[max]):\n",
        "      max = i\n",
        "  return max \n",
        "\n",
        "#--Vorhersagen--#\n",
        "def vorhersage(X):\n",
        "  model = load_model('DeepPiCar.h5')\n",
        "  y_pred = model.predict(X)\n",
        "  return y_pred"
      ],
      "execution_count": null,
      "outputs": []
    },
    {
      "cell_type": "code",
      "metadata": {
        "id": "DMfkuGFS3LHN",
        "colab_type": "code",
        "colab": {}
      },
      "source": [
        "#--Testdaten generieren--#\n",
        "bs = 50\n",
        "test_batches = ImageDataGenerator().flow_from_directory(valid_dir, target_size = (73, 54), classes=classes, batch_size = bs)\n",
        "X_test, y_test = next(test_batches)\n",
        "X = []\n",
        "for i in range(bs):\n",
        "  X.append(X_test[i, 32: ,:])\n",
        "X_test = np.asarray(X)\n",
        "y_pred = vorhersage(X_test)"
      ],
      "execution_count": null,
      "outputs": []
    },
    {
      "cell_type": "code",
      "metadata": {
        "id": "kDo5xr0C-Ghz",
        "colab_type": "code",
        "colab": {
          "base_uri": "https://localhost:8080/",
          "height": 304
        },
        "outputId": "3309c87e-b2fb-4e7b-afa7-b89eb4207b1c"
      },
      "source": [
        "#--Anzeigen--#\n",
        "num = random.randint(0, bs - 1)\n",
        "gemessener_winkel = vorbereitung_steuerwinkel(y_test[num]) * 10\n",
        "ausgewerteter_winkel = auswertung_steuerwinkel(y_pred[num]) * 10\n",
        "print(f\"Gemessener Winkel = {gemessener_winkel}, Vorhergesagter Winkel = {ausgewerteter_winkel}\")\n",
        "plt.imshow(X_test[num] / 255) #damit werte von 0 bis eins sind für pyplot"
      ],
      "execution_count": null,
      "outputs": [
        {
          "output_type": "stream",
          "text": [
            "Gemessener Winkel = 80, Vorhergesagter Winkel = 80\n"
          ],
          "name": "stdout"
        },
        {
          "output_type": "execute_result",
          "data": {
            "text/plain": [
              "<matplotlib.image.AxesImage at 0x7f33f0373a58>"
            ]
          },
          "metadata": {
            "tags": []
          },
          "execution_count": 23
        },
        {
          "output_type": "display_data",
          "data": {
            "image/png": "[encoded data removed]",
            "text/plain": [
              "<Figure size 432x288 with 1 Axes>"
            ]
          },
          "metadata": {
            "tags": [],
            "needs_background": "light"
          }
        }
      ]
    }
  ]
}